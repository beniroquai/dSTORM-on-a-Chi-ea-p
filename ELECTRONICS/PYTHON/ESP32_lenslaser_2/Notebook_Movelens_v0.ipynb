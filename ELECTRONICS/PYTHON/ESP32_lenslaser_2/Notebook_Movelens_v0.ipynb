{
 "cells": [
  {
   "cell_type": "code",
   "execution_count": null,
   "id": "curious-national",
   "metadata": {},
   "outputs": [],
   "source": []
  },
  {
   "cell_type": "code",
   "execution_count": 29,
   "id": "active-teach",
   "metadata": {},
   "outputs": [],
   "source": [
    "import numpy as np\n",
    "import matplotlib.pyplot as plt\n",
    "import cv2\n",
    "from laser import laser\n",
    "from lens import lens\n",
    "import serial\n",
    "import time\n",
    "from IPython.display import clear_output\n",
    "import matplotlib\n",
    "from IPython.display import display \n",
    "import ipywidgets as widgets \n",
    "from ipywidgets import interact, Layout \n"
   ]
  },
  {
   "cell_type": "code",
   "execution_count": 32,
   "id": "abroad-sterling",
   "metadata": {},
   "outputs": [
    {
     "name": "stdout",
     "output_type": "stream",
     "text": [
      "Initializing Lens 1\n",
      "Printing Buffer: *LENS1X+1000#\n",
      "Printing Buffer: *LENS1Z+1000#\n",
      "Printing Buffer: *LAS1+0#\n"
     ]
    }
   ],
   "source": [
    "# open the lens and move it \n",
    "serialport = \"/dev/ttyUSB1\"\n",
    "serialconnection = serial.Serial(serialport,115200,timeout=1) # Open grbl serial port\n",
    "\n",
    "print('Initializing Lens 1')\n",
    "# init lens\n",
    "lens_1 = lens(serialconnection, lens_id = 1)\n",
    "laser_1 = laser(serialconnection, laser_id = 1)\n"
   ]
  },
  {
   "cell_type": "code",
   "execution_count": 33,
   "id": "literary-evidence",
   "metadata": {},
   "outputs": [
    {
     "name": "stdout",
     "output_type": "stream",
     "text": [
      "Printing Buffer: *LENS1X+1000#\n",
      "Printing Buffer: *LENS1Z+0#\n"
     ]
    }
   ],
   "source": [
    "pos_x = 1000\n",
    "pos_z = 0000\n",
    "\n",
    "lens_1.move(pos_x, \"X\")\n",
    "lens_1.move(pos_z, \"Z\")\n",
    "\n"
   ]
  },
  {
   "cell_type": "code",
   "execution_count": 34,
   "id": "antique-symphony",
   "metadata": {},
   "outputs": [],
   "source": [
    "slider1 = widgets.IntSlider(value=1000,min=0,max=10000,step=100,description='LensX:',orientation='vertical')"
   ]
  },
  {
   "cell_type": "code",
   "execution_count": null,
   "id": "quiet-display",
   "metadata": {},
   "outputs": [],
   "source": []
  },
  {
   "cell_type": "code",
   "execution_count": null,
   "id": "resistant-alfred",
   "metadata": {},
   "outputs": [],
   "source": [
    "def updatelens1(lensvalX): \n",
    "    lens_1.move(lensvalX, \"X\"); \n",
    "    \n",
    "def updatelens2(lensvalZ): \n",
    "    lens_1.move(lensvalZ, \"Z\");\n",
    "    \n",
    "    \n",
    "interact(updatelens1, lensvalX = (0,10000))\n",
    "interact(updatelens2, lensvalZ = (250,350))"
   ]
  },
  {
   "cell_type": "code",
   "execution_count": 38,
   "id": "precise-oxide",
   "metadata": {},
   "outputs": [],
   "source": [
    "serialconnection.close()"
   ]
  }
 ],
 "metadata": {
  "kernelspec": {
   "display_name": "Python 3",
   "language": "python",
   "name": "python3"
  },
  "language_info": {
   "codemirror_mode": {
    "name": "ipython",
    "version": 3
   },
   "file_extension": ".py",
   "mimetype": "text/x-python",
   "name": "python",
   "nbconvert_exporter": "python",
   "pygments_lexer": "ipython3",
   "version": "3.7.5"
  }
 },
 "nbformat": 4,
 "nbformat_minor": 5
}
