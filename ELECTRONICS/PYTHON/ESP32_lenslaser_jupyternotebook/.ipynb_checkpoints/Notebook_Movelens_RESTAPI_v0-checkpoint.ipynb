{
 "cells": [
  {
   "cell_type": "code",
   "execution_count": 2,
   "metadata": {},
   "outputs": [
    {
     "name": "stdout",
     "output_type": "stream",
     "text": [
      "\n",
      "     active environment : tfgpu2\n",
      "    active env location : C:\\Users\\diederichbenedict\\.conda\\envs\\tfgpu2\n",
      "            shell level : 1\n",
      "       user config file : C:\\Users\\diederichbenedict\\.condarc\n",
      " populated config files : C:\\Users\\diederichbenedict\\.condarc\n",
      "          conda version : 4.9.2\n",
      "    conda-build version : 3.20.5\n",
      "         python version : 3.8.5.final.0\n",
      "       virtual packages : __cuda=10.2=0\n",
      "                          __win=0=0\n",
      "                          __archspec=1=x86_64\n",
      "       base environment : C:\\ProgramData\\Anaconda3  (read only)\n",
      "           channel URLs : https://repo.anaconda.com/pkgs/main/win-64\n",
      "                          https://repo.anaconda.com/pkgs/main/noarch\n",
      "                          https://repo.anaconda.com/pkgs/r/win-64\n",
      "                          https://repo.anaconda.com/pkgs/r/noarch\n",
      "                          https://repo.anaconda.com/pkgs/msys2/win-64\n",
      "                          https://repo.anaconda.com/pkgs/msys2/noarch\n",
      "                          https://conda.anaconda.org/conda-forge/win-64\n",
      "                          https://conda.anaconda.org/conda-forge/noarch\n",
      "          package cache : C:\\ProgramData\\Anaconda3\\pkgs\n",
      "                          C:\\Users\\diederichbenedict\\.conda\\pkgs\n",
      "                          C:\\Users\\diederichbenedict\\AppData\\Local\\conda\\conda\\pkgs\n",
      "       envs directories : C:\\Users\\diederichbenedict\\.conda\\envs\n",
      "                          C:\\ProgramData\\Anaconda3\\envs\n",
      "                          C:\\Users\\diederichbenedict\\AppData\\Local\\conda\\conda\\envs\n",
      "               platform : win-64\n",
      "             user-agent : conda/4.9.2 requests/2.24.0 CPython/3.8.5 Windows/10 Windows/10.0.19041\n",
      "          administrator : False\n",
      "             netrc file : None\n",
      "           offline mode : False\n",
      "\n"
     ]
    }
   ],
   "source": [
    "#!pip uninstall pyserial \n",
    "#!pip3 install pyserial --force-reinstall\n",
    "import sys\n",
    "sys.executable\n",
    "#import serial\n",
    "!conda info\n",
    "!conda install -c anaconda pyserial"
   ]
  },
  {
   "cell_type": "code",
   "execution_count": 1,
   "metadata": {},
   "outputs": [],
   "source": [
    "import numpy as np\n",
    "import matplotlib.pyplot as plt\n",
    "from laser import laser\n",
    "from lens import lens\n",
    "\n",
    "import time\n",
    "from IPython.display import clear_output\n",
    "import matplotlib\n",
    "from IPython.display import display \n",
    "import ipywidgets as widgets \n",
    "from ipywidgets import interact, Layout \n"
   ]
  },
  {
   "cell_type": "code",
   "execution_count": 6,
   "metadata": {},
   "outputs": [
    {
     "name": "stdout",
     "output_type": "stream",
     "text": [
      "/dev/cu.SOC\n",
      "/dev/cu.MALS\n",
      "/dev/cu.Bluetooth-Incoming-Port\n",
      "/dev/cu.SLAB_USBtoUART\n",
      "/dev/cu.usbserial-0001\n"
     ]
    }
   ],
   "source": [
    "import serial.tools.list_ports as ports\n",
    "\n",
    "# choose the port which looks like an ESP/Arduino\n",
    "com_ports = list(ports.comports()) # create a list of com ['COM1','COM2'] \n",
    "for i in com_ports:            \n",
    "    print(i.device) # returns 'COMx'  \n"
   ]
  },
  {
   "cell_type": "code",
   "execution_count": 8,
   "metadata": {},
   "outputs": [
    {
     "name": "stdout",
     "output_type": "stream",
     "text": [
      "Initializing Lens 1\n",
      "Printing Buffer: *LENS1X+1000#\n",
      "Printing Buffer: *LENS1Z+1000#\n",
      "Printing Buffer: *LAS1+0#\n"
     ]
    }
   ],
   "source": [
    "# open the lens and move it \n",
    "import serial\n",
    "serialport = \"/dev/ttyUSB1\" # in Linux - check that in your arduino IDE (lower right area)\n",
    "#serialport = \"COM5\" # in windows\n",
    "serialport = \"/dev/cu.SLAB_USBtoUART\" # MAC\n",
    "serialconnection = serial.Serial(serialport,115200,timeout=1) # Open grbl serial port\n",
    "\n",
    "print('Initializing Lens 1')\n",
    "# init lens\n",
    "lens_1 = lens(serialconnection, lens_id = 1)\n",
    "laser_1 = laser(serialconnection, laser_id = 1)\n"
   ]
  },
  {
   "cell_type": "code",
   "execution_count": 9,
   "metadata": {},
   "outputs": [
    {
     "name": "stdout",
     "output_type": "stream",
     "text": [
      "Printing Buffer: *LENS1X+1000#\n",
      "Printing Buffer: *LENS1Z+0#\n"
     ]
    }
   ],
   "source": [
    "pos_x = 1000\n",
    "pos_z = 0000\n",
    "\n",
    "lens_1.move(pos_x, \"X\")\n",
    "lens_1.move(pos_z, \"Z\")\n",
    "\n"
   ]
  },
  {
   "cell_type": "code",
   "execution_count": 10,
   "metadata": {},
   "outputs": [],
   "source": [
    "slider1 = widgets.IntSlider(value=1000,min=0,max=10000,step=100,description='LensX:',orientation='vertical')"
   ]
  },
  {
   "cell_type": "code",
   "execution_count": null,
   "metadata": {},
   "outputs": [],
   "source": []
  },
  {
   "cell_type": "code",
   "execution_count": 12,
   "metadata": {},
   "outputs": [
    {
     "data": {
      "application/vnd.jupyter.widget-view+json": {
       "model_id": "3143cd658e334c62bc79d8243b54dcde",
       "version_major": 2,
       "version_minor": 0
      },
      "text/plain": [
       "interactive(children=(IntSlider(value=5000, description='lensvalX', max=10000), Output()), _dom_classes=('widg…"
      ]
     },
     "metadata": {},
     "output_type": "display_data"
    },
    {
     "data": {
      "application/vnd.jupyter.widget-view+json": {
       "model_id": "691aca01268743d9ba6a57b1142adfca",
       "version_major": 2,
       "version_minor": 0
      },
      "text/plain": [
       "interactive(children=(IntSlider(value=5000, description='lensvalZ', max=10000), Output()), _dom_classes=('widg…"
      ]
     },
     "metadata": {},
     "output_type": "display_data"
    },
    {
     "data": {
      "text/plain": [
       "<function __main__.updatelens2(lensvalZ)>"
      ]
     },
     "execution_count": 12,
     "metadata": {},
     "output_type": "execute_result"
    }
   ],
   "source": [
    "def updatelens1(lensvalX): \n",
    "    lens_1.move(lensvalX, \"X\"); \n",
    "    \n",
    "def updatelens2(lensvalZ): \n",
    "    lens_1.move(lensvalZ, \"Z\");\n",
    "    \n",
    "    \n",
    "interact(updatelens1, lensvalX = (0,10000))\n",
    "interact(updatelens2, lensvalZ = (0,10000))"
   ]
  },
  {
   "cell_type": "code",
   "execution_count": null,
   "metadata": {},
   "outputs": [],
   "source": [
    "serialconnection.close()"
   ]
  }
 ],
 "metadata": {
  "kernelspec": {
   "display_name": "Python 3",
   "language": "python",
   "name": "python3"
  },
  "language_info": {
   "codemirror_mode": {
    "name": "ipython",
    "version": 3
   },
   "file_extension": ".py",
   "mimetype": "text/x-python",
   "name": "python",
   "nbconvert_exporter": "python",
   "pygments_lexer": "ipython3",
   "version": "3.7.7"
  }
 },
 "nbformat": 4,
 "nbformat_minor": 5
}
