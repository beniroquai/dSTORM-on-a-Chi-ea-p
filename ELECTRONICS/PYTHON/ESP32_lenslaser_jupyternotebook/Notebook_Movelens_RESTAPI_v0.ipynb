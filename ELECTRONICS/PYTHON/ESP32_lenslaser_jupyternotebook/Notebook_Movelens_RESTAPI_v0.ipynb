{
 "cells": [
  {
   "cell_type": "code",
   "execution_count": 12,
   "metadata": {},
   "outputs": [],
   "source": [
    "#!/usr/bin/env python\n",
    "# coding: utf-8\n",
    "\n",
    "\"\"\"\n",
    "Simple client code for the ESP32 in Python - adapted from OFM Client \n",
    "Copyright 2020 Richard Bowman, released under LGPL 3.0 or later\n",
    "Copyright 2021 Benedict Diederich, released under LGPL 3.0 or later\n",
    "\"\"\"\n",
    "\n",
    "import requests\n",
    "import json\n",
    "import time\n",
    "import io\n",
    "#import PIL.Image\n",
    "import numpy as np\n",
    "import logging\n",
    "import zeroconf\n",
    "import requests \n",
    "import json\n",
    "import time \n",
    "#import matplotlib.pyplot as plt\n",
    "\n",
    "ACTION_RUNNING_KEYWORDS = [\"idle\", \"pending\", \"running\"]\n",
    "ACTION_OUTPUT_KEYS = [\"output\", \"return\"]\n",
    "\n",
    "class ESP32Client(object):\n",
    "    headers = {'ESP32-version': '*'}\n",
    "\n",
    "    def __init__(self, host, port=31950):\n",
    "        if isinstance(host, zeroconf.ServiceInfo):\n",
    "            # If we have an mDNS ServiceInfo object, try each address\n",
    "            # in turn, to see if it works (sometimes you get addresses\n",
    "            # that don't work, if your network config is odd).\n",
    "            # TODO: figure out why we can get mDNS packets even when\n",
    "            # the microscope is unreachable by that IP\n",
    "            for addr in host.parsed_addresses():\n",
    "                if \":\" in addr:\n",
    "                    self.host = f\"[{addr}]\"\n",
    "                else:\n",
    "                    self.host = addr\n",
    "                self.port = host.port\n",
    "                try:\n",
    "                    self.get_json(self.base_uri)\n",
    "                    break\n",
    "                except:\n",
    "                    logging.info(f\"Couldn't connect to {addr}, we'll try another address if possible.\")\n",
    "        else:\n",
    "            self.host = host\n",
    "            self.port = port\n",
    "            #self.get_json(self.base_uri)\n",
    "        logging.info(f\"Connecting to microscope {self.host}:{self.port}\")\n",
    "        #self.populate_extensions()\n",
    "\n",
    "    extensions = None\n",
    "        \n",
    "    @property\n",
    "    def base_uri(self):\n",
    "        return f\"http://{self.host}:{self.port}\"\n",
    "\n",
    "    def get_json(self, path):\n",
    "        \"\"\"Perform an HTTP GET request and return the JSON response\"\"\"\n",
    "        if not path.startswith(\"http\"):\n",
    "            path = self.base_uri + path\n",
    "        r = requests.get(path)\n",
    "        r.raise_for_status()\n",
    "        return r.json()\n",
    "\n",
    "    def post_json(self, path, payload={}):\n",
    "        \"\"\"Make an HTTP POST request and return the JSON response\"\"\"\n",
    "        if not path.startswith(\"http\"):\n",
    "            path = self.base_uri + path\n",
    "        r = requests.post(path, json=payload, headers=self.headers)\n",
    "        r.raise_for_status()\n",
    "        r = r.json()\n",
    "        return r\n",
    "\n",
    "\n",
    "    def get_temperature(self):\n",
    "        path = \"/temperature\"\n",
    "        r = self.get_json(path)\n",
    "        return r['value']\n",
    "    \n",
    "    #%% LED\n",
    "    def set_led(self, colour=(0,0,0)):\n",
    "        payload = {\n",
    "            \"red\": colour[0], \n",
    "            \"green\": colour[1], \n",
    "            \"blue\": colour[2]\n",
    "        }\n",
    "        path = '/led'\n",
    "        r = self.post_json(path, payload)\n",
    "        return r\n",
    "    \n",
    "    def move_x(self, steps=100, speed=10):\n",
    "        payload = {\n",
    "            \"steps\": steps, \n",
    "            \"speed\": speed,            \n",
    "        }\n",
    "        path = '/move_x'\n",
    "        r = self.post_json(path, payload)\n",
    "        return r\n",
    "    \n",
    "    def move_y(self, steps=100, speed=10):\n",
    "        payload = {\n",
    "            \"steps\": steps, \n",
    "            \"speed\": speed,            \n",
    "        }\n",
    "        path = '/move_y'\n",
    "        r = self.post_json(path, payload)\n",
    "        return r\n",
    "    \n",
    "    def lens_x(self, value=100):\n",
    "        payload = {\n",
    "            \"lens_value\": value,            \n",
    "        }\n",
    "        path = '/lens_x'\n",
    "        r = self.post_json(path, payload)\n",
    "        return r\n",
    "    \n",
    "    def lens_z(self, value=100):\n",
    "        payload = {\n",
    "            \"lens_value\": value,            \n",
    "        }\n",
    "        path = '/lens_z'\n",
    "        r = self.post_json(path, payload)\n",
    "        return r\n",
    "    \n",
    "\n",
    "host = '192.168.43.33'\n",
    "esp32 = ESP32Client(host, port=80)\n",
    "\n",
    "    "
   ]
  },
  {
   "cell_type": "code",
   "execution_count": 13,
   "metadata": {},
   "outputs": [],
   "source": [
    "import numpy as np\n",
    "import matplotlib.pyplot as plt\n",
    "from laser import laser\n",
    "from lens import lens\n",
    "\n",
    "import time\n",
    "from IPython.display import clear_output\n",
    "import matplotlib\n",
    "from IPython.display import display \n",
    "import ipywidgets as widgets \n",
    "from ipywidgets import interact, Layout \n"
   ]
  },
  {
   "cell_type": "code",
   "execution_count": null,
   "metadata": {},
   "outputs": [],
   "source": []
  },
  {
   "cell_type": "code",
   "execution_count": null,
   "metadata": {},
   "outputs": [],
   "source": []
  },
  {
   "cell_type": "code",
   "execution_count": null,
   "metadata": {},
   "outputs": [],
   "source": []
  },
  {
   "cell_type": "code",
   "execution_count": 14,
   "metadata": {},
   "outputs": [],
   "source": [
    "slider1 = widgets.IntSlider(value=1000,min=0,max=10000,step=100,description='LensX:',orientation='vertical')"
   ]
  },
  {
   "cell_type": "code",
   "execution_count": null,
   "metadata": {},
   "outputs": [],
   "source": []
  },
  {
   "cell_type": "code",
   "execution_count": 17,
   "metadata": {},
   "outputs": [
    {
     "data": {
      "application/vnd.jupyter.widget-view+json": {
       "model_id": "dd7ad02bae5a4e06a1d36932db6e7523",
       "version_major": 2,
       "version_minor": 0
      },
      "text/plain": [
       "interactive(children=(IntSlider(value=12500, description='lensvalX', max=25000), Output()), _dom_classes=('wid…"
      ]
     },
     "metadata": {},
     "output_type": "display_data"
    },
    {
     "data": {
      "application/vnd.jupyter.widget-view+json": {
       "model_id": "e4d8391c0fba428f8e1661d4264ceadc",
       "version_major": 2,
       "version_minor": 0
      },
      "text/plain": [
       "interactive(children=(IntSlider(value=12500, description='lensvalZ', max=25000), Output()), _dom_classes=('wid…"
      ]
     },
     "metadata": {},
     "output_type": "display_data"
    },
    {
     "data": {
      "text/plain": [
       "<function __main__.updatelens2(lensvalZ)>"
      ]
     },
     "execution_count": 17,
     "metadata": {},
     "output_type": "execute_result"
    }
   ],
   "source": [
    "def updatelens1(lensvalX): \n",
    "    esp32.lens_x(value=lensvalX) \n",
    "\n",
    "def updatelens2(lensvalZ): \n",
    "    esp32.lens_z(value=lensvalZ)\n",
    "    \n",
    "interact(updatelens1, lensvalX = (0,25000))\n",
    "interact(updatelens2, lensvalZ = (0,25000))"
   ]
  },
  {
   "cell_type": "code",
   "execution_count": 8,
   "metadata": {},
   "outputs": [
    {
     "data": {
      "text/plain": [
       "{}"
      ]
     },
     "execution_count": 8,
     "metadata": {},
     "output_type": "execute_result"
    }
   ],
   "source": [
    "esp32.move_y(steps=5000, speed=6)"
   ]
  },
  {
   "cell_type": "code",
   "execution_count": null,
   "metadata": {},
   "outputs": [],
   "source": []
  },
  {
   "cell_type": "code",
   "execution_count": null,
   "metadata": {},
   "outputs": [],
   "source": []
  },
  {
   "cell_type": "code",
   "execution_count": null,
   "metadata": {},
   "outputs": [],
   "source": []
  },
  {
   "cell_type": "code",
   "execution_count": null,
   "metadata": {},
   "outputs": [],
   "source": [
    "\n",
    "    \n",
    "\n",
    "esp32.set_led((100,2,5))\n",
    "#esp32.move_x(steps=2000, speed=8)\n",
    "#esp32.move_y(steps=2000, speed=6)\n",
    "\n",
    "#%%\n",
    "esp32.lens_x(value=10000)\n",
    "esp32.lens_z(value=10000)\n",
    "#%%\n",
    "for ix in range(0,32000,100):\n",
    "    esp32.lens_x(value=ix)\n",
    "    for iy in range(0,32000,100):\n",
    "        esp32.lens_z(value=iy)\n",
    "esp32.lens_z(value=0)\n",
    "esp32.lens_x(value=0)\n",
    "\n",
    "#%%\n",
    "esp32.lens_x(value=8000)\n",
    "esp32.lens_x(value=20900)\n",
    "\n",
    "#%%\n",
    "for iy in range(20000,23000,100):\n",
    "    time.sleep(.05)\n",
    "    print(iy)\n",
    "    esp32.lens_z(value=iy)\n",
    "    \n",
    "#%%\n",
    "esp32.move_y(steps=-10000, speed=6)\n",
    "\n",
    "    "
   ]
  }
 ],
 "metadata": {
  "kernelspec": {
   "display_name": "Python 3",
   "language": "python",
   "name": "python3"
  },
  "language_info": {
   "codemirror_mode": {
    "name": "ipython",
    "version": 3
   },
   "file_extension": ".py",
   "mimetype": "text/x-python",
   "name": "python",
   "nbconvert_exporter": "python",
   "pygments_lexer": "ipython3",
   "version": "3.7.7"
  }
 },
 "nbformat": 4,
 "nbformat_minor": 5
}
