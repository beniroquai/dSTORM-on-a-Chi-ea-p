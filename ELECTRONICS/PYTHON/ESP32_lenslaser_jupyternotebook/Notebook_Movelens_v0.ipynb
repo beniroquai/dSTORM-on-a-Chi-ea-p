{
 "cells": [
  {
   "cell_type": "code",
   "execution_count": 2,
   "metadata": {},
   "outputs": [
    {
     "name": "stdout",
     "output_type": "stream",
     "text": [
      "\n",
      "     active environment : tfgpu2\n",
      "    active env location : C:\\Users\\diederichbenedict\\.conda\\envs\\tfgpu2\n",
      "            shell level : 1\n",
      "       user config file : C:\\Users\\diederichbenedict\\.condarc\n",
      " populated config files : C:\\Users\\diederichbenedict\\.condarc\n",
      "          conda version : 4.9.2\n",
      "    conda-build version : 3.20.5\n",
      "         python version : 3.8.5.final.0\n",
      "       virtual packages : __cuda=10.2=0\n",
      "                          __win=0=0\n",
      "                          __archspec=1=x86_64\n",
      "       base environment : C:\\ProgramData\\Anaconda3  (read only)\n",
      "           channel URLs : https://repo.anaconda.com/pkgs/main/win-64\n",
      "                          https://repo.anaconda.com/pkgs/main/noarch\n",
      "                          https://repo.anaconda.com/pkgs/r/win-64\n",
      "                          https://repo.anaconda.com/pkgs/r/noarch\n",
      "                          https://repo.anaconda.com/pkgs/msys2/win-64\n",
      "                          https://repo.anaconda.com/pkgs/msys2/noarch\n",
      "                          https://conda.anaconda.org/conda-forge/win-64\n",
      "                          https://conda.anaconda.org/conda-forge/noarch\n",
      "          package cache : C:\\ProgramData\\Anaconda3\\pkgs\n",
      "                          C:\\Users\\diederichbenedict\\.conda\\pkgs\n",
      "                          C:\\Users\\diederichbenedict\\AppData\\Local\\conda\\conda\\pkgs\n",
      "       envs directories : C:\\Users\\diederichbenedict\\.conda\\envs\n",
      "                          C:\\ProgramData\\Anaconda3\\envs\n",
      "                          C:\\Users\\diederichbenedict\\AppData\\Local\\conda\\conda\\envs\n",
      "               platform : win-64\n",
      "             user-agent : conda/4.9.2 requests/2.24.0 CPython/3.8.5 Windows/10 Windows/10.0.19041\n",
      "          administrator : False\n",
      "             netrc file : None\n",
      "           offline mode : False\n",
      "\n"
     ]
    }
   ],
   "source": [
    "#!pip uninstall pyserial \n",
    "#!pip3 install pyserial --force-reinstall\n",
    "import sys\n",
    "sys.executable\n",
    "#import serial\n",
    "!conda info\n",
    "!conda install -c anaconda pyserial"
   ]
  },
  {
   "cell_type": "code",
   "execution_count": 2,
   "metadata": {},
   "outputs": [],
   "source": [
    "import numpy as np\n",
    "import matplotlib.pyplot as plt\n",
    "from laser import laser\n",
    "from lens import lens\n",
    "\n",
    "import time\n",
    "from IPython.display import clear_output\n",
    "import matplotlib\n",
    "from IPython.display import display \n",
    "import ipywidgets as widgets \n",
    "from ipywidgets import interact, Layout \n"
   ]
  },
  {
   "cell_type": "code",
   "execution_count": 3,
   "metadata": {},
   "outputs": [
    {
     "ename": "NameError",
     "evalue": "name 'serial' is not defined",
     "output_type": "error",
     "traceback": [
      "\u001b[1;31m---------------------------------------------------------------------------\u001b[0m",
      "\u001b[1;31mNameError\u001b[0m                                 Traceback (most recent call last)",
      "\u001b[1;32m<ipython-input-3-04324094960a>\u001b[0m in \u001b[0;36m<module>\u001b[1;34m\u001b[0m\n\u001b[0;32m      2\u001b[0m \u001b[0mserialport\u001b[0m \u001b[1;33m=\u001b[0m \u001b[1;34m\"/dev/ttyUSB1\"\u001b[0m \u001b[1;31m# check that in your arduino IDE (lower right area)\u001b[0m\u001b[1;33m\u001b[0m\u001b[1;33m\u001b[0m\u001b[0m\n\u001b[0;32m      3\u001b[0m \u001b[0mserialport\u001b[0m \u001b[1;33m=\u001b[0m \u001b[1;34m\"COM5\"\u001b[0m \u001b[1;31m# in windows\u001b[0m\u001b[1;33m\u001b[0m\u001b[1;33m\u001b[0m\u001b[0m\n\u001b[1;32m----> 4\u001b[1;33m \u001b[0mserialconnection\u001b[0m \u001b[1;33m=\u001b[0m \u001b[0mserial\u001b[0m\u001b[1;33m.\u001b[0m\u001b[0mSerial\u001b[0m\u001b[1;33m(\u001b[0m\u001b[0mserialport\u001b[0m\u001b[1;33m,\u001b[0m\u001b[1;36m115200\u001b[0m\u001b[1;33m,\u001b[0m\u001b[0mtimeout\u001b[0m\u001b[1;33m=\u001b[0m\u001b[1;36m1\u001b[0m\u001b[1;33m)\u001b[0m \u001b[1;31m# Open grbl serial port\u001b[0m\u001b[1;33m\u001b[0m\u001b[1;33m\u001b[0m\u001b[0m\n\u001b[0m\u001b[0;32m      5\u001b[0m \u001b[1;33m\u001b[0m\u001b[0m\n\u001b[0;32m      6\u001b[0m \u001b[0mprint\u001b[0m\u001b[1;33m(\u001b[0m\u001b[1;34m'Initializing Lens 1'\u001b[0m\u001b[1;33m)\u001b[0m\u001b[1;33m\u001b[0m\u001b[1;33m\u001b[0m\u001b[0m\n",
      "\u001b[1;31mNameError\u001b[0m: name 'serial' is not defined"
     ]
    }
   ],
   "source": [
    "# open the lens and move it \n",
    "serialport = \"/dev/ttyUSB1\" # check that in your arduino IDE (lower right area)\n",
    "serialport = \"COM5\" # in windows\n",
    "serialconnection = serial.Serial(serialport,115200,timeout=1) # Open grbl serial port\n",
    "\n",
    "print('Initializing Lens 1')\n",
    "# init lens\n",
    "lens_1 = lens(serialconnection, lens_id = 1)\n",
    "laser_1 = laser(serialconnection, laser_id = 1)\n"
   ]
  },
  {
   "cell_type": "code",
   "execution_count": null,
   "metadata": {},
   "outputs": [],
   "source": [
    "pos_x = 1000\n",
    "pos_z = 0000\n",
    "\n",
    "lens_1.move(pos_x, \"X\")\n",
    "lens_1.move(pos_z, \"Z\")\n",
    "\n"
   ]
  },
  {
   "cell_type": "code",
   "execution_count": null,
   "metadata": {},
   "outputs": [],
   "source": [
    "slider1 = widgets.IntSlider(value=1000,min=0,max=10000,step=100,description='LensX:',orientation='vertical')"
   ]
  },
  {
   "cell_type": "code",
   "execution_count": null,
   "metadata": {},
   "outputs": [],
   "source": []
  },
  {
   "cell_type": "code",
   "execution_count": null,
   "metadata": {},
   "outputs": [],
   "source": [
    "def updatelens1(lensvalX): \n",
    "    lens_1.move(lensvalX, \"X\"); \n",
    "    \n",
    "def updatelens2(lensvalZ): \n",
    "    lens_1.move(lensvalZ, \"Z\");\n",
    "    \n",
    "    \n",
    "interact(updatelens1, lensvalX = (0,10000))\n",
    "interact(updatelens2, lensvalZ = (250,350))"
   ]
  },
  {
   "cell_type": "code",
   "execution_count": null,
   "metadata": {},
   "outputs": [],
   "source": [
    "serialconnection.close()"
   ]
  }
 ],
 "metadata": {
  "kernelspec": {
   "display_name": "Python 3",
   "language": "python",
   "name": "python3"
  }
 },
 "nbformat": 4,
 "nbformat_minor": 5
}
